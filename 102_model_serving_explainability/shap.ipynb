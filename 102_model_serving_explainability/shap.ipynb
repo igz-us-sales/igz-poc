{
 "cells": [
  {
   "cell_type": "markdown",
   "id": "2ce6e46b",
   "metadata": {
    "slideshow": {
     "slide_type": "slide"
    }
   },
   "source": [
    "# Productionize Model with Explainability via SHAP"
   ]
  },
  {
   "cell_type": "code",
   "execution_count": 1,
   "id": "686514f3",
   "metadata": {
    "slideshow": {
     "slide_type": "fragment"
    }
   },
   "outputs": [
    {
     "name": "stdout",
     "output_type": "stream",
     "text": [
      "> 2023-03-20 19:05:53,183 [info] loaded project shap from MLRun DB\n"
     ]
    }
   ],
   "source": [
    "import mlrun\n",
    "from sklearn.datasets import load_iris\n",
    "\n",
    "# Create MLRun project\n",
    "project = mlrun.get_or_create_project(name=\"model-serving-explainability\", context=\"./\")"
   ]
  },
  {
   "cell_type": "markdown",
   "id": "0a9ef13d",
   "metadata": {
    "slideshow": {
     "slide_type": "slide"
    }
   },
   "source": [
    "### Log Model"
   ]
  },
  {
   "cell_type": "code",
   "execution_count": 2,
   "id": "58bde4ca",
   "metadata": {
    "slideshow": {
     "slide_type": "fragment"
    }
   },
   "outputs": [
    {
     "data": {
      "text/plain": [
       "<mlrun.artifacts.model.ModelArtifact at 0x7fbb864c3550>"
      ]
     },
     "execution_count": 2,
     "metadata": {},
     "output_type": "execute_result"
    }
   ],
   "source": [
    "project.log_model(\n",
    "    key=\"iris_model\",\n",
    "    model_file=\"shap_model.pkl\",\n",
    "    metrics={\"loss\" : 0.01, \"accuracy\" : 0.96},\n",
    "    framework=\"sklearn\",\n",
    "    algorithm=\"RandomForestClassifier\"\n",
    ")"
   ]
  },
  {
   "cell_type": "code",
   "execution_count": 3,
   "id": "061f8c56",
   "metadata": {
    "slideshow": {
     "slide_type": "fragment"
    }
   },
   "outputs": [
    {
     "data": {
      "text/plain": [
       "'store://artifacts/shap/iris_model'"
      ]
     },
     "execution_count": 3,
     "metadata": {},
     "output_type": "execute_result"
    }
   ],
   "source": [
    "model_uri = project.get_artifact_uri(\"iris_model\")\n",
    "model_uri"
   ]
  },
  {
   "cell_type": "markdown",
   "id": "ec713fbf",
   "metadata": {
    "slideshow": {
     "slide_type": "slide"
    }
   },
   "source": [
    "### Create Model Server"
   ]
  },
  {
   "cell_type": "code",
   "execution_count": 4,
   "id": "65b0f665",
   "metadata": {},
   "outputs": [
    {
     "name": "stdout",
     "output_type": "stream",
     "text": [
      "Overwriting serve.py\n"
     ]
    }
   ],
   "source": [
    "%%writefile serve.py\n",
    "import mlrun\n",
    "\n",
    "from cloudpickle import load\n",
    "from typing import List\n",
    "import numpy as np\n",
    "import shap\n",
    "\n",
    "class ClassifierModelSHAP(mlrun.serving.V2ModelServer):\n",
    "    def load(self):\n",
    "        \"\"\"load and initialize the model and/or other elements\"\"\"\n",
    "        model_file, extra_data = self.get_model(\".pkl\")\n",
    "        self.model = load(open(model_file, \"rb\"))\n",
    "        self.explainer = shap.TreeExplainer(self.model)\n",
    "\n",
    "    def predict(self, body: dict) -> List:\n",
    "        \"\"\"Generate model predictions from sample.\"\"\"\n",
    "        feats = np.asarray(body[\"inputs\"])\n",
    "        result: np.ndarray = self.model.predict(feats)\n",
    "        return result.tolist()\n",
    "    \n",
    "    def explain(self, body: dict) -> List:\n",
    "        \"\"\"Generate model explaination from sample\"\"\"\n",
    "        feats = np.asarray(body[\"inputs\"])\n",
    "        result: np.ndarray = self.model.predict(feats)\n",
    "        shap_values = self.explainer.shap_values(feats)\n",
    "        return shap_values[result.argmax()].tolist()"
   ]
  },
  {
   "cell_type": "code",
   "execution_count": 25,
   "id": "77aa34b1",
   "metadata": {
    "slideshow": {
     "slide_type": "fragment"
    }
   },
   "outputs": [],
   "source": [
    "# Create serving function\n",
    "serve = mlrun.code_to_function(\n",
    "    name=\"model-server\",\n",
    "    filename=\"serve.py\",\n",
    "    kind=\"serving\",\n",
    "    image=\"mlrun/mlrun\",\n",
    "    requirements=\"requirements.txt\",\n",
    ")\n",
    "\n",
    "serve.add_model(key=f\"iris\", model_path=model_uri, class_name=\"ClassifierModelSHAP\")"
   ]
  },
  {
   "cell_type": "code",
   "execution_count": 26,
   "id": "0b35f32a",
   "metadata": {
    "slideshow": {
     "slide_type": "fragment"
    }
   },
   "outputs": [],
   "source": [
    "serve.with_requests(mem=\"1G\", cpu=0.1)\n",
    "serve.with_limits(mem=\"2G\", cpu=0.2)"
   ]
  },
  {
   "cell_type": "code",
   "execution_count": 27,
   "id": "93a13412",
   "metadata": {},
   "outputs": [
    {
     "data": {
      "image/svg+xml": [
       "<?xml version=\"1.0\" encoding=\"UTF-8\" standalone=\"no\"?>\n",
       "<!DOCTYPE svg PUBLIC \"-//W3C//DTD SVG 1.1//EN\"\n",
       " \"http://www.w3.org/Graphics/SVG/1.1/DTD/svg11.dtd\">\n",
       "<!-- Generated by graphviz version 2.40.1 (20161225.0304)\n",
       " -->\n",
       "<!-- Title: mlrun&#45;flow Pages: 1 -->\n",
       "<svg width=\"900pt\" height=\"196pt\"\n",
       " viewBox=\"0.00 0.00 899.79 196.00\" xmlns=\"http://www.w3.org/2000/svg\" xmlns:xlink=\"http://www.w3.org/1999/xlink\">\n",
       "<g id=\"graph0\" class=\"graph\" transform=\"scale(1 1) rotate(0) translate(4 192)\">\n",
       "<title>mlrun&#45;flow</title>\n",
       "<polygon fill=\"#ffffff\" stroke=\"transparent\" points=\"-4,4 -4,-192 895.7935,-192 895.7935,4 -4,4\"/>\n",
       "<!-- _start -->\n",
       "<g id=\"node1\" class=\"node\">\n",
       "<title>_start</title>\n",
       "<polygon fill=\"#d3d3d3\" stroke=\"#000000\" points=\"448.6448,-152.0493 450.7953,-152.1479 452.9235,-152.2953 455.0208,-152.4913 457.0787,-152.7353 459.0889,-153.0266 461.0435,-153.3645 462.9349,-153.7479 464.7559,-154.1759 466.4997,-154.6472 468.1601,-155.1606 469.7312,-155.7147 471.2079,-156.308 472.5855,-156.9388 473.8598,-157.6054 475.0274,-158.3059 476.0854,-159.0385 477.0316,-159.8012 477.8642,-160.5918 478.5822,-161.4082 479.1851,-162.2481 479.6731,-163.1093 480.0468,-163.9894 480.3075,-164.886 480.4568,-165.7965 480.497,-166.7186 480.4306,-167.6497 480.2608,-168.5873 479.991,-169.5287 479.6248,-170.4713 479.1663,-171.4127 478.6198,-172.3503 477.9896,-173.2814 477.2804,-174.2035 476.4968,-175.114 475.6437,-176.0106 474.7257,-176.8907 473.7477,-177.7519 472.7143,-178.5918 471.6301,-179.4082 470.4996,-180.1988 469.3272,-180.9615 468.1169,-181.6941 466.8727,-182.3946 465.5984,-183.0612 464.2974,-183.692 462.973,-184.2853 461.6282,-184.8394 460.2657,-185.3528 458.888,-185.8241 457.4975,-186.2521 456.0962,-186.6355 454.6858,-186.9734 453.2681,-187.2647 451.8444,-187.5087 450.4162,-187.7047 448.9844,-187.8521 447.5503,-187.9507 446.1148,-188 444.6788,-188 443.2432,-187.9507 441.8091,-187.8521 440.3774,-187.7047 438.9491,-187.5087 437.5255,-187.2647 436.1077,-186.9734 434.6974,-186.6355 433.296,-186.2521 431.9055,-185.8241 430.5279,-185.3528 429.1654,-184.8394 427.8205,-184.2853 426.4961,-183.692 425.1951,-183.0612 423.9208,-182.3946 422.6766,-181.6941 421.4664,-180.9615 420.2939,-180.1988 419.1634,-179.4082 418.0793,-178.5918 417.0459,-177.7519 416.0678,-176.8907 415.1499,-176.0106 414.2967,-175.114 413.5132,-174.2035 412.804,-173.2814 412.1738,-172.3503 411.6272,-171.4127 411.1687,-170.4713 410.8026,-169.5287 410.5327,-168.5873 410.3629,-167.6497 410.2966,-166.7186 410.3368,-165.7965 410.4861,-164.886 410.7467,-163.9894 411.1205,-163.1093 411.6085,-162.2481 412.2114,-161.4082 412.9294,-160.5918 413.762,-159.8012 414.7081,-159.0385 415.7661,-158.3059 416.9337,-157.6054 418.2081,-156.9388 419.5856,-156.308 421.0623,-155.7147 422.6335,-155.1606 424.2938,-154.6472 426.0376,-154.1759 427.8586,-153.7479 429.75,-153.3645 431.7046,-153.0266 433.7148,-152.7353 435.7727,-152.4913 437.87,-152.2953 439.9982,-152.1479 442.1487,-152.0493 444.3126,-152 446.4809,-152 448.6448,-152.0493\"/>\n",
       "<text text-anchor=\"middle\" x=\"445.3968\" y=\"-166.3\" font-family=\"Times,serif\" font-size=\"14.00\" fill=\"#000000\">start</text>\n",
       "</g>\n",
       "<g id=\"node2\" class=\"node\">\n",
       "<title></title>\n",
       "<polygon fill=\"none\" stroke=\"#000000\" points=\"472.3968,-86.5442 472.3968,-101.4558 456.5805,-112 434.213,-112 418.3968,-101.4558 418.3968,-86.5442 434.213,-76 456.5805,-76 472.3968,-86.5442\"/>\n",
       "<polygon fill=\"none\" stroke=\"#000000\" points=\"476.3968,-84.4034 476.3968,-103.5966 457.7916,-116 433.0019,-116 414.3968,-103.5966 414.3968,-84.4034 433.0019,-72 457.7916,-72 476.3968,-84.4034\"/>\n",
       "</g>\n",
       "<!-- _start&#45;&gt; -->\n",
       "<g id=\"edge1\" class=\"edge\">\n",
       "<title>_start&#45;&gt;</title>\n",
       "<path fill=\"none\" stroke=\"#000000\" d=\"M445.3968,-151.9891C445.3968,-144.291 445.3968,-135.0629 445.3968,-126.2561\"/>\n",
       "<polygon fill=\"#000000\" stroke=\"#000000\" points=\"448.8969,-126.2282 445.3968,-116.2282 441.8969,-126.2282 448.8969,-126.2282\"/>\n",
       "</g>\n",
       "<!-- iris_0 -->\n",
       "<g id=\"node3\" class=\"node\">\n",
       "<title>iris_0</title>\n",
       "<ellipse fill=\"none\" stroke=\"#000000\" cx=\"36.3968\" cy=\"-18\" rx=\"36.2938\" ry=\"18\"/>\n",
       "<text text-anchor=\"middle\" x=\"36.3968\" y=\"-14.3\" font-family=\"Times,serif\" font-size=\"14.00\" fill=\"#000000\">iris_0</text>\n",
       "</g>\n",
       "<!-- &#45;&gt;iris_0 -->\n",
       "<g id=\"edge2\" class=\"edge\">\n",
       "<title>&#45;&gt;iris_0</title>\n",
       "<path fill=\"none\" stroke=\"#000000\" d=\"M414.3293,-91.3027C350.9994,-85.3114 202.7866,-68.764 82.3968,-36 79.604,-35.24 76.7481,-34.3675 73.8943,-33.4254\"/>\n",
       "<polygon fill=\"#000000\" stroke=\"#000000\" points=\"74.8887,-30.0644 64.294,-30.0165 72.5464,-36.6609 74.8887,-30.0644\"/>\n",
       "</g>\n",
       "<!-- iris_1 -->\n",
       "<g id=\"node4\" class=\"node\">\n",
       "<title>iris_1</title>\n",
       "<ellipse fill=\"none\" stroke=\"#000000\" cx=\"127.3968\" cy=\"-18\" rx=\"36.2938\" ry=\"18\"/>\n",
       "<text text-anchor=\"middle\" x=\"127.3968\" y=\"-14.3\" font-family=\"Times,serif\" font-size=\"14.00\" fill=\"#000000\">iris_1</text>\n",
       "</g>\n",
       "<!-- &#45;&gt;iris_1 -->\n",
       "<g id=\"edge3\" class=\"edge\">\n",
       "<title>&#45;&gt;iris_1</title>\n",
       "<path fill=\"none\" stroke=\"#000000\" d=\"M414.3914,-89.0838C363.4627,-80.6326 259.1839,-61.7438 173.3968,-36 170.6246,-35.1681 167.7838,-34.2427 164.9408,-33.2629\"/>\n",
       "<polygon fill=\"#000000\" stroke=\"#000000\" points=\"165.956,-29.9079 155.362,-29.7789 163.5633,-36.4863 165.956,-29.9079\"/>\n",
       "</g>\n",
       "<!-- iris_2 -->\n",
       "<g id=\"node5\" class=\"node\">\n",
       "<title>iris_2</title>\n",
       "<ellipse fill=\"none\" stroke=\"#000000\" cx=\"218.3968\" cy=\"-18\" rx=\"36.2938\" ry=\"18\"/>\n",
       "<text text-anchor=\"middle\" x=\"218.3968\" y=\"-14.3\" font-family=\"Times,serif\" font-size=\"14.00\" fill=\"#000000\">iris_2</text>\n",
       "</g>\n",
       "<!-- &#45;&gt;iris_2 -->\n",
       "<g id=\"edge4\" class=\"edge\">\n",
       "<title>&#45;&gt;iris_2</title>\n",
       "<path fill=\"none\" stroke=\"#000000\" d=\"M414.1303,-84.6351C377.8909,-73.6298 316.4751,-54.5126 264.3968,-36 261.8338,-35.0889 259.1997,-34.1273 256.5516,-33.1416\"/>\n",
       "<polygon fill=\"#000000\" stroke=\"#000000\" points=\"257.5931,-29.7933 247.0019,-29.5143 255.1074,-36.3371 257.5931,-29.7933\"/>\n",
       "</g>\n",
       "<!-- iris_3 -->\n",
       "<g id=\"node6\" class=\"node\">\n",
       "<title>iris_3</title>\n",
       "<ellipse fill=\"none\" stroke=\"#000000\" cx=\"309.3968\" cy=\"-18\" rx=\"36.2938\" ry=\"18\"/>\n",
       "<text text-anchor=\"middle\" x=\"309.3968\" y=\"-14.3\" font-family=\"Times,serif\" font-size=\"14.00\" fill=\"#000000\">iris_3</text>\n",
       "</g>\n",
       "<!-- &#45;&gt;iris_3 -->\n",
       "<g id=\"edge5\" class=\"edge\">\n",
       "<title>&#45;&gt;iris_3</title>\n",
       "<path fill=\"none\" stroke=\"#000000\" d=\"M420.4523,-80.0604C398.5573,-67.825 366.5454,-49.936 342.5094,-36.5041\"/>\n",
       "<polygon fill=\"#000000\" stroke=\"#000000\" points=\"344.1624,-33.4185 333.7256,-31.5955 340.7476,-39.5291 344.1624,-33.4185\"/>\n",
       "</g>\n",
       "<!-- iris_4 -->\n",
       "<g id=\"node7\" class=\"node\">\n",
       "<title>iris_4</title>\n",
       "<ellipse fill=\"none\" stroke=\"#000000\" cx=\"400.3968\" cy=\"-18\" rx=\"36.2938\" ry=\"18\"/>\n",
       "<text text-anchor=\"middle\" x=\"400.3968\" y=\"-14.3\" font-family=\"Times,serif\" font-size=\"14.00\" fill=\"#000000\">iris_4</text>\n",
       "</g>\n",
       "<!-- &#45;&gt;iris_4 -->\n",
       "<g id=\"edge6\" class=\"edge\">\n",
       "<title>&#45;&gt;iris_4</title>\n",
       "<path fill=\"none\" stroke=\"#000000\" d=\"M432.3809,-72.0177C427.2413,-63.3375 421.2936,-53.2925 415.9315,-44.2364\"/>\n",
       "<polygon fill=\"#000000\" stroke=\"#000000\" points=\"418.9227,-42.4186 410.8161,-35.5971 412.8994,-45.9851 418.9227,-42.4186\"/>\n",
       "</g>\n",
       "<!-- iris_5 -->\n",
       "<g id=\"node8\" class=\"node\">\n",
       "<title>iris_5</title>\n",
       "<ellipse fill=\"none\" stroke=\"#000000\" cx=\"491.3968\" cy=\"-18\" rx=\"36.2938\" ry=\"18\"/>\n",
       "<text text-anchor=\"middle\" x=\"491.3968\" y=\"-14.3\" font-family=\"Times,serif\" font-size=\"14.00\" fill=\"#000000\">iris_5</text>\n",
       "</g>\n",
       "<!-- &#45;&gt;iris_5 -->\n",
       "<g id=\"edge7\" class=\"edge\">\n",
       "<title>&#45;&gt;iris_5</title>\n",
       "<path fill=\"none\" stroke=\"#000000\" d=\"M458.4555,-72.4247C463.7944,-63.6039 470.0183,-53.321 475.6094,-44.0834\"/>\n",
       "<polygon fill=\"#000000\" stroke=\"#000000\" points=\"478.7497,-45.6545 480.9335,-35.2872 472.7612,-42.0298 478.7497,-45.6545\"/>\n",
       "</g>\n",
       "<!-- iris_6 -->\n",
       "<g id=\"node9\" class=\"node\">\n",
       "<title>iris_6</title>\n",
       "<ellipse fill=\"none\" stroke=\"#000000\" cx=\"582.3968\" cy=\"-18\" rx=\"36.2938\" ry=\"18\"/>\n",
       "<text text-anchor=\"middle\" x=\"582.3968\" y=\"-14.3\" font-family=\"Times,serif\" font-size=\"14.00\" fill=\"#000000\">iris_6</text>\n",
       "</g>\n",
       "<!-- &#45;&gt;iris_6 -->\n",
       "<g id=\"edge8\" class=\"edge\">\n",
       "<title>&#45;&gt;iris_6</title>\n",
       "<path fill=\"none\" stroke=\"#000000\" d=\"M470.2064,-80.237C492.2228,-68.0235 524.5736,-50.0771 548.8857,-36.5901\"/>\n",
       "<polygon fill=\"#000000\" stroke=\"#000000\" points=\"550.725,-39.5723 557.7717,-31.6606 547.3292,-33.4511 550.725,-39.5723\"/>\n",
       "</g>\n",
       "<!-- iris_7 -->\n",
       "<g id=\"node10\" class=\"node\">\n",
       "<title>iris_7</title>\n",
       "<ellipse fill=\"none\" stroke=\"#000000\" cx=\"673.3968\" cy=\"-18\" rx=\"36.2938\" ry=\"18\"/>\n",
       "<text text-anchor=\"middle\" x=\"673.3968\" y=\"-14.3\" font-family=\"Times,serif\" font-size=\"14.00\" fill=\"#000000\">iris_7</text>\n",
       "</g>\n",
       "<!-- &#45;&gt;iris_7 -->\n",
       "<g id=\"edge9\" class=\"edge\">\n",
       "<title>&#45;&gt;iris_7</title>\n",
       "<path fill=\"none\" stroke=\"#000000\" d=\"M476.5145,-84.7515C512.915,-73.7791 574.8863,-54.619 627.3968,-36 629.9605,-35.091 632.5951,-34.1309 635.2437,-33.1463\"/>\n",
       "<polygon fill=\"#000000\" stroke=\"#000000\" points=\"636.6869,-36.3422 644.7942,-29.5214 634.2029,-29.7977 636.6869,-36.3422\"/>\n",
       "</g>\n",
       "<!-- iris_8 -->\n",
       "<g id=\"node11\" class=\"node\">\n",
       "<title>iris_8</title>\n",
       "<ellipse fill=\"none\" stroke=\"#000000\" cx=\"764.3968\" cy=\"-18\" rx=\"36.2938\" ry=\"18\"/>\n",
       "<text text-anchor=\"middle\" x=\"764.3968\" y=\"-14.3\" font-family=\"Times,serif\" font-size=\"14.00\" fill=\"#000000\">iris_8</text>\n",
       "</g>\n",
       "<!-- &#45;&gt;iris_8 -->\n",
       "<g id=\"edge10\" class=\"edge\">\n",
       "<title>&#45;&gt;iris_8</title>\n",
       "<path fill=\"none\" stroke=\"#000000\" d=\"M476.5171,-89.0971C527.6343,-80.6647 632.2983,-61.8021 718.3968,-36 721.1693,-35.1691 724.0102,-34.2445 726.8535,-33.2652\"/>\n",
       "<polygon fill=\"#000000\" stroke=\"#000000\" points=\"728.2305,-36.4888 736.4326,-29.7824 725.8385,-29.9101 728.2305,-36.4888\"/>\n",
       "</g>\n",
       "<!-- iris_9 -->\n",
       "<g id=\"node12\" class=\"node\">\n",
       "<title>iris_9</title>\n",
       "<ellipse fill=\"none\" stroke=\"#000000\" cx=\"855.3968\" cy=\"-18\" rx=\"36.2938\" ry=\"18\"/>\n",
       "<text text-anchor=\"middle\" x=\"855.3968\" y=\"-14.3\" font-family=\"Times,serif\" font-size=\"14.00\" fill=\"#000000\">iris_9</text>\n",
       "</g>\n",
       "<!-- &#45;&gt;iris_9 -->\n",
       "<g id=\"edge11\" class=\"edge\">\n",
       "<title>&#45;&gt;iris_9</title>\n",
       "<path fill=\"none\" stroke=\"#000000\" d=\"M476.55,-91.3132C540.0547,-85.3408 688.6765,-68.8262 809.3968,-36 812.1897,-35.2406 815.0457,-34.3685 817.8996,-33.4267\"/>\n",
       "<polygon fill=\"#000000\" stroke=\"#000000\" points=\"819.2472,-36.6624 827.5001,-30.0185 816.9053,-30.0657 819.2472,-36.6624\"/>\n",
       "</g>\n",
       "</g>\n",
       "</svg>\n"
      ],
      "text/plain": [
       "<graphviz.dot.Digraph at 0x7fbb74c52ad0>"
      ]
     },
     "execution_count": 27,
     "metadata": {},
     "output_type": "execute_result"
    }
   ],
   "source": [
    "serve.plot()"
   ]
  },
  {
   "cell_type": "code",
   "execution_count": 8,
   "id": "66f22159",
   "metadata": {
    "slideshow": {
     "slide_type": "subslide"
    }
   },
   "outputs": [],
   "source": [
    "# print(serve.to_yaml())"
   ]
  },
  {
   "cell_type": "code",
   "execution_count": 9,
   "id": "2fae5329",
   "metadata": {
    "slideshow": {
     "slide_type": "subslide"
    }
   },
   "outputs": [
    {
     "name": "stdout",
     "output_type": "stream",
     "text": [
      "> 2023-03-08 20:11:47,520 [info] Starting remote function deploy\n",
      "2023-03-08 20:11:47  (info) Deploying function\n",
      "2023-03-08 20:11:47  (info) Building\n",
      "2023-03-08 20:11:47  (info) Staging files and preparing base images\n",
      "2023-03-08 20:11:47  (info) Building processor image\n",
      "2023-03-08 20:13:03  (info) Build complete\n",
      "2023-03-08 20:13:33  (info) Function deploy complete\n",
      "> 2023-03-08 20:13:33,542 [info] successfully deployed function: {'internal_invocation_urls': ['nuclio-shap-model-server.default-tenant.svc.cluster.local:8080'], 'external_invocation_urls': ['shap-model-server-shap.default-tenant.app.us-sales-350.iguazio-cd1.com/']}\n"
     ]
    }
   ],
   "source": [
    "addr = serve.deploy()"
   ]
  },
  {
   "cell_type": "code",
   "execution_count": 10,
   "id": "9387c911",
   "metadata": {
    "slideshow": {
     "slide_type": "fragment"
    }
   },
   "outputs": [
    {
     "data": {
      "text/plain": [
       "'http://shap-model-server-shap.default-tenant.app.us-sales-350.iguazio-cd1.com/'"
      ]
     },
     "execution_count": 10,
     "metadata": {},
     "output_type": "execute_result"
    }
   ],
   "source": [
    "addr"
   ]
  },
  {
   "cell_type": "markdown",
   "id": "e954ea4c",
   "metadata": {
    "slideshow": {
     "slide_type": "slide"
    }
   },
   "source": [
    "### Predict"
   ]
  },
  {
   "cell_type": "code",
   "execution_count": 16,
   "id": "3f6fa44c",
   "metadata": {
    "slideshow": {
     "slide_type": "fragment"
    }
   },
   "outputs": [
    {
     "name": "stdout",
     "output_type": "stream",
     "text": [
      "> 2023-03-08 21:41:28,383 [info] invoking function: {'method': 'POST', 'path': 'http://nuclio-shap-model-server.default-tenant.svc.cluster.local:8080/v2/models/iris/predict'}\n"
     ]
    },
    {
     "data": {
      "text/plain": [
       "{'id': '9e6257ab-5ac3-47bb-b9ab-0a4f77251fa9',\n",
       " 'model_name': 'iris',\n",
       " 'outputs': [0]}"
      ]
     },
     "execution_count": 16,
     "metadata": {},
     "output_type": "execute_result"
    }
   ],
   "source": [
    "serve.invoke(path=\"/v2/models/iris/predict\", body={\"inputs\" : [[5.4, 3.9, 1.7, 0.4]]})"
   ]
  },
  {
   "cell_type": "markdown",
   "id": "44c3b5e1",
   "metadata": {
    "slideshow": {
     "slide_type": "subslide"
    }
   },
   "source": [
    "### Explain via SHAP"
   ]
  },
  {
   "cell_type": "code",
   "execution_count": 17,
   "id": "d38980d3",
   "metadata": {
    "slideshow": {
     "slide_type": "fragment"
    }
   },
   "outputs": [
    {
     "name": "stdout",
     "output_type": "stream",
     "text": [
      "> 2023-03-08 21:41:36,189 [info] invoking function: {'method': 'POST', 'path': 'http://nuclio-shap-model-server.default-tenant.svc.cluster.local:8080/v2/models/iris/explain'}\n"
     ]
    },
    {
     "data": {
      "text/plain": [
       "{'id': 'd6df1328-65ca-49e6-8f86-411ddbf90e30',\n",
       " 'model_name': 'iris',\n",
       " 'outputs': [[0.04497215780203216,\n",
       "   0.014732781996398808,\n",
       "   0.2917383347609635,\n",
       "   0.31995672544060544]]}"
      ]
     },
     "execution_count": 17,
     "metadata": {},
     "output_type": "execute_result"
    }
   ],
   "source": [
    "serve.invoke(path=\"/v2/models/iris/explain\", body={\"inputs\" : [[5.4, 3.9, 1.7, 0.4]]})"
   ]
  }
 ],
 "metadata": {
  "celltoolbar": "Slideshow",
  "kernelspec": {
   "display_name": "Python [conda env:root] *",
   "language": "python",
   "name": "conda-root-py"
  },
  "language_info": {
   "codemirror_mode": {
    "name": "ipython",
    "version": 3
   },
   "file_extension": ".py",
   "mimetype": "text/x-python",
   "name": "python",
   "nbconvert_exporter": "python",
   "pygments_lexer": "ipython3",
   "version": "3.7.6"
  },
  "rise": {
   "enable_chalkboard": true,
   "scroll": true
  }
 },
 "nbformat": 4,
 "nbformat_minor": 5
}
