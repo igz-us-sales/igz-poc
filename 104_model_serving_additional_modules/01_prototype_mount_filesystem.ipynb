{
 "cells": [
  {
   "cell_type": "markdown",
   "id": "d49eccb0",
   "metadata": {
    "slideshow": {
     "slide_type": "slide"
    }
   },
   "source": [
    "# Prototyping: Model Serving with Additional Modules via Mounting Filesystem\n",
    "\n",
    "This will allow you to utilize other files and modules you have created outside of your `serve.py` file. This method is simple and can be used for prototyping, but is not best practice\n",
    "\n",
    "We will be doing the following:\n",
    "1. Mount the current directory in the container\n",
    "2. Add the current directory to the Python path within the container"
   ]
  },
  {
   "cell_type": "code",
   "execution_count": 11,
   "id": "0cf70699",
   "metadata": {
    "slideshow": {
     "slide_type": "fragment"
    }
   },
   "outputs": [
    {
     "name": "stdout",
     "output_type": "stream",
     "text": [
      "> 2023-03-29 23:13:38,191 [info] loaded project model-serving-additional-modules from MLRun DB\n"
     ]
    }
   ],
   "source": [
    "import os\n",
    "import mlrun\n",
    "\n",
    "# Create MLRun project\n",
    "project = mlrun.get_or_create_project(name=\"model-serving-additional-modules\", context=\"./\")"
   ]
  },
  {
   "cell_type": "markdown",
   "id": "57cf2446",
   "metadata": {
    "slideshow": {
     "slide_type": "slide"
    }
   },
   "source": [
    "### Log Model"
   ]
  },
  {
   "cell_type": "code",
   "execution_count": 12,
   "id": "fe3cf06a",
   "metadata": {
    "slideshow": {
     "slide_type": "fragment"
    }
   },
   "outputs": [
    {
     "data": {
      "text/plain": [
       "<mlrun.artifacts.model.ModelArtifact at 0x7f9fc19a7350>"
      ]
     },
     "execution_count": 12,
     "metadata": {},
     "output_type": "execute_result"
    }
   ],
   "source": [
    "project.log_model(\n",
    "    key=\"iris_model\",\n",
    "    model_file=\"iris_model.pkl\",\n",
    "    metrics={\"loss\" : 0.01, \"accuracy\" : 0.96},\n",
    "    framework=\"sklearn\",\n",
    "    algorithm=\"RandomForestClassifier\"\n",
    ")"
   ]
  },
  {
   "cell_type": "code",
   "execution_count": 13,
   "id": "c42fbd85",
   "metadata": {
    "slideshow": {
     "slide_type": "fragment"
    }
   },
   "outputs": [
    {
     "data": {
      "text/plain": [
       "'store://artifacts/model-serving-additional-modules/iris_model'"
      ]
     },
     "execution_count": 13,
     "metadata": {},
     "output_type": "execute_result"
    }
   ],
   "source": [
    "model_uri = project.get_artifact_uri(\"iris_model\")\n",
    "model_uri"
   ]
  },
  {
   "cell_type": "markdown",
   "id": "676f874e",
   "metadata": {
    "slideshow": {
     "slide_type": "slide"
    }
   },
   "source": [
    "### Create Additional Module and Model Server"
   ]
  },
  {
   "cell_type": "code",
   "execution_count": 15,
   "id": "a408d66c",
   "metadata": {},
   "outputs": [
    {
     "name": "stdout",
     "output_type": "stream",
     "text": [
      "Overwriting my_module.py\n"
     ]
    }
   ],
   "source": [
    "%%writefile my_module.py\n",
    "\n",
    "def something_useful():\n",
    "    return \"something useful\""
   ]
  },
  {
   "cell_type": "code",
   "execution_count": 17,
   "id": "85af4590",
   "metadata": {},
   "outputs": [
    {
     "name": "stdout",
     "output_type": "stream",
     "text": [
      "Overwriting serve.py\n"
     ]
    }
   ],
   "source": [
    "%%writefile serve.py\n",
    "import mlrun\n",
    "\n",
    "from cloudpickle import load\n",
    "from typing import List\n",
    "import numpy as np\n",
    "\n",
    "################################################\n",
    "from my_module import something_useful # <------\n",
    "################################################\n",
    "\n",
    "class MyUsefulModel(mlrun.serving.V2ModelServer):\n",
    "    def load(self):\n",
    "        \"\"\"load and initialize the model and/or other elements\"\"\"\n",
    "        model_file, extra_data = self.get_model(\".pkl\")\n",
    "        self.model = load(open(model_file, \"rb\"))\n",
    "\n",
    "    def predict(self, body: dict) -> List:\n",
    "        \"\"\"Generate model predictions from sample.\"\"\"\n",
    "        feats = np.asarray(body[\"inputs\"])\n",
    "        result: np.ndarray = self.model.predict(feats)\n",
    "        return something_useful() # <-----"
   ]
  },
  {
   "cell_type": "code",
   "execution_count": 18,
   "id": "53157efe",
   "metadata": {
    "slideshow": {
     "slide_type": "fragment"
    }
   },
   "outputs": [
    {
     "data": {
      "text/plain": [
       "<mlrun.runtimes.serving.ServingRuntime at 0x7f9fc1aa5f50>"
      ]
     },
     "execution_count": 18,
     "metadata": {},
     "output_type": "execute_result"
    }
   ],
   "source": [
    "# Create serving function\n",
    "serve = project.set_function(\n",
    "    name=\"model-server-1\",\n",
    "    func=\"serve.py\",\n",
    "    kind=\"serving\",\n",
    "    image=\"mlrun/mlrun\",\n",
    ")\n",
    "\n",
    "serve.add_model(key=f\"iris\", model_path=model_uri, class_name=\"MyUsefulModel\")\n",
    "\n",
    "###################################################\n",
    "# This is the extra piece we are adding. This\n",
    "# works fine for prototyping but is not best\n",
    "# practice for production. Instead you should\n",
    "# use a Git repo\n",
    "\n",
    "# Mount the Iguazio filesystem inside our model server\n",
    "serve.apply(mlrun.mount_v3io())\n",
    "\n",
    "# Add the current directory to the Python path\n",
    "# inside our model server\n",
    "serve.set_env(name=\"PYTHONPATH\", value=os.getcwd())\n",
    "###################################################"
   ]
  },
  {
   "cell_type": "code",
   "execution_count": 19,
   "id": "80262c62",
   "metadata": {
    "slideshow": {
     "slide_type": "fragment"
    }
   },
   "outputs": [],
   "source": [
    "serve.with_requests(mem=\"1G\", cpu=0.1)\n",
    "serve.with_limits(mem=\"2G\", cpu=0.2)"
   ]
  },
  {
   "cell_type": "code",
   "execution_count": 20,
   "id": "bcf5e119",
   "metadata": {},
   "outputs": [
    {
     "data": {
      "image/svg+xml": [
       "<?xml version=\"1.0\" encoding=\"UTF-8\" standalone=\"no\"?>\n",
       "<!DOCTYPE svg PUBLIC \"-//W3C//DTD SVG 1.1//EN\"\n",
       " \"http://www.w3.org/Graphics/SVG/1.1/DTD/svg11.dtd\">\n",
       "<!-- Generated by graphviz version 2.40.1 (20161225.0304)\n",
       " -->\n",
       "<!-- Title: mlrun&#45;flow Pages: 1 -->\n",
       "<svg width=\"79pt\" height=\"196pt\"\n",
       " viewBox=\"0.00 0.00 78.60 196.00\" xmlns=\"http://www.w3.org/2000/svg\" xmlns:xlink=\"http://www.w3.org/1999/xlink\">\n",
       "<g id=\"graph0\" class=\"graph\" transform=\"scale(1 1) rotate(0) translate(4 192)\">\n",
       "<title>mlrun&#45;flow</title>\n",
       "<polygon fill=\"#ffffff\" stroke=\"transparent\" points=\"-4,4 -4,-192 74.5991,-192 74.5991,4 -4,4\"/>\n",
       "<!-- _start -->\n",
       "<g id=\"node1\" class=\"node\">\n",
       "<title>_start</title>\n",
       "<polygon fill=\"#d3d3d3\" stroke=\"#000000\" points=\"38.5476,-152.0493 40.698,-152.1479 42.8263,-152.2953 44.9236,-152.4913 46.9815,-152.7353 48.9917,-153.0266 50.9463,-153.3645 52.8377,-153.7479 54.6587,-154.1759 56.4025,-154.6472 58.0628,-155.1606 59.634,-155.7147 61.1107,-156.308 62.4882,-156.9388 63.7625,-157.6054 64.9302,-158.3059 65.9882,-159.0385 66.9343,-159.8012 67.7669,-160.5918 68.4849,-161.4082 69.0878,-162.2481 69.5758,-163.1093 69.9496,-163.9894 70.2102,-164.886 70.3595,-165.7965 70.3997,-166.7186 70.3334,-167.6497 70.1636,-168.5873 69.8937,-169.5287 69.5276,-170.4713 69.0691,-171.4127 68.5225,-172.3503 67.8923,-173.2814 67.1831,-174.2035 66.3996,-175.114 65.5464,-176.0106 64.6285,-176.8907 63.6504,-177.7519 62.617,-178.5918 61.5329,-179.4082 60.4024,-180.1988 59.2299,-180.9615 58.0197,-181.6941 56.7755,-182.3946 55.5012,-183.0612 54.2002,-183.692 52.8757,-184.2853 51.5309,-184.8394 50.1684,-185.3528 48.7908,-185.8241 47.4003,-186.2521 45.9989,-186.6355 44.5886,-186.9734 43.1708,-187.2647 41.7472,-187.5087 40.3189,-187.7047 38.8872,-187.8521 37.4531,-187.9507 36.0175,-188 34.5815,-188 33.146,-187.9507 31.7119,-187.8521 30.2801,-187.7047 28.8519,-187.5087 27.4282,-187.2647 26.0105,-186.9734 24.6001,-186.6355 23.1988,-186.2521 21.8083,-185.8241 20.4306,-185.3528 19.0681,-184.8394 17.7233,-184.2853 16.3989,-183.692 15.0979,-183.0612 13.8236,-182.3946 12.5794,-181.6941 11.3691,-180.9615 10.1967,-180.1988 9.0662,-179.4082 7.982,-178.5918 6.9486,-177.7519 5.9706,-176.8907 5.0526,-176.0106 4.1995,-175.114 3.4159,-174.2035 2.7067,-173.2814 2.0765,-172.3503 1.53,-171.4127 1.0715,-170.4713 .7053,-169.5287 .4355,-168.5873 .2657,-167.6497 .1993,-166.7186 .2395,-165.7965 .3888,-164.886 .6495,-163.9894 1.0232,-163.1093 1.5112,-162.2481 2.1141,-161.4082 2.8321,-160.5918 3.6647,-159.8012 4.6109,-159.0385 5.6689,-158.3059 6.8365,-157.6054 8.1108,-156.9388 9.4884,-156.308 10.9651,-155.7147 12.5362,-155.1606 14.1966,-154.6472 15.9404,-154.1759 17.7614,-153.7479 19.6528,-153.3645 21.6074,-153.0266 23.6176,-152.7353 25.6755,-152.4913 27.7728,-152.2953 29.901,-152.1479 32.0515,-152.0493 34.2154,-152 36.3837,-152 38.5476,-152.0493\"/>\n",
       "<text text-anchor=\"middle\" x=\"35.2995\" y=\"-166.3\" font-family=\"Times,serif\" font-size=\"14.00\" fill=\"#000000\">start</text>\n",
       "</g>\n",
       "<g id=\"node2\" class=\"node\">\n",
       "<title></title>\n",
       "<polygon fill=\"none\" stroke=\"#000000\" points=\"62.2995,-86.5442 62.2995,-101.4558 46.4833,-112 24.1158,-112 8.2995,-101.4558 8.2995,-86.5442 24.1158,-76 46.4833,-76 62.2995,-86.5442\"/>\n",
       "<polygon fill=\"none\" stroke=\"#000000\" points=\"66.2995,-84.4034 66.2995,-103.5966 47.6944,-116 22.9047,-116 4.2995,-103.5966 4.2995,-84.4034 22.9047,-72 47.6944,-72 66.2995,-84.4034\"/>\n",
       "</g>\n",
       "<!-- _start&#45;&gt; -->\n",
       "<g id=\"edge1\" class=\"edge\">\n",
       "<title>_start&#45;&gt;</title>\n",
       "<path fill=\"none\" stroke=\"#000000\" d=\"M35.2995,-151.9891C35.2995,-144.291 35.2995,-135.0629 35.2995,-126.2561\"/>\n",
       "<polygon fill=\"#000000\" stroke=\"#000000\" points=\"38.7996,-126.2282 35.2995,-116.2282 31.7996,-126.2282 38.7996,-126.2282\"/>\n",
       "</g>\n",
       "<!-- iris -->\n",
       "<g id=\"node3\" class=\"node\">\n",
       "<title>iris</title>\n",
       "<ellipse fill=\"none\" stroke=\"#000000\" cx=\"35.2995\" cy=\"-18\" rx=\"27\" ry=\"18\"/>\n",
       "<text text-anchor=\"middle\" x=\"35.2995\" y=\"-14.3\" font-family=\"Times,serif\" font-size=\"14.00\" fill=\"#000000\">iris</text>\n",
       "</g>\n",
       "<!-- &#45;&gt;iris -->\n",
       "<g id=\"edge2\" class=\"edge\">\n",
       "<title>&#45;&gt;iris</title>\n",
       "<path fill=\"none\" stroke=\"#000000\" d=\"M35.2995,-71.6086C35.2995,-63.7272 35.2995,-54.7616 35.2995,-46.4482\"/>\n",
       "<polygon fill=\"#000000\" stroke=\"#000000\" points=\"38.7996,-46.3974 35.2995,-36.3975 31.7996,-46.3975 38.7996,-46.3974\"/>\n",
       "</g>\n",
       "</g>\n",
       "</svg>\n"
      ],
      "text/plain": [
       "<graphviz.dot.Digraph at 0x7f9fdc3b6390>"
      ]
     },
     "execution_count": 20,
     "metadata": {},
     "output_type": "execute_result"
    }
   ],
   "source": [
    "serve.plot()"
   ]
  },
  {
   "cell_type": "code",
   "execution_count": 21,
   "id": "6e2aef31",
   "metadata": {
    "slideshow": {
     "slide_type": "subslide"
    }
   },
   "outputs": [],
   "source": [
    "# print(serve.to_yaml())"
   ]
  },
  {
   "cell_type": "code",
   "execution_count": 22,
   "id": "a2aa34d6",
   "metadata": {
    "slideshow": {
     "slide_type": "subslide"
    }
   },
   "outputs": [
    {
     "name": "stdout",
     "output_type": "stream",
     "text": [
      "> 2023-03-29 23:14:39,592 [info] Starting remote function deploy\n",
      "2023-03-29 23:14:40  (info) Deploying function\n",
      "2023-03-29 23:14:40  (info) Building\n",
      "2023-03-29 23:14:40  (info) Staging files and preparing base images\n",
      "2023-03-29 23:14:40  (info) Building processor image\n",
      "2023-03-29 23:15:46  (info) Build complete\n",
      "2023-03-29 23:16:43  (info) Function deploy complete\n",
      "> 2023-03-29 23:16:43,558 [info] successfully deployed function: {'internal_invocation_urls': ['nuclio-model-serving-additional-modules-model-server-1.default-tenant.svc.cluster.local:8080'], 'external_invocation_urls': ['model-serving-additional-modules-model-server-1-model-0wsqfyfw.default-tenant.app.us-sales-350.iguazio-cd1.com/']}\n"
     ]
    }
   ],
   "source": [
    "addr = serve.deploy()"
   ]
  },
  {
   "cell_type": "code",
   "execution_count": 23,
   "id": "39451337",
   "metadata": {
    "slideshow": {
     "slide_type": "fragment"
    }
   },
   "outputs": [
    {
     "data": {
      "text/plain": [
       "'http://model-serving-additional-modules-model-server-1-model-0wsqfyfw.default-tenant.app.us-sales-350.iguazio-cd1.com/'"
      ]
     },
     "execution_count": 23,
     "metadata": {},
     "output_type": "execute_result"
    }
   ],
   "source": [
    "addr"
   ]
  },
  {
   "cell_type": "markdown",
   "id": "2ed13c12",
   "metadata": {
    "slideshow": {
     "slide_type": "slide"
    }
   },
   "source": [
    "### \"Predict\"\n",
    "Note the output is using our additional module we created"
   ]
  },
  {
   "cell_type": "code",
   "execution_count": 25,
   "id": "df77da13",
   "metadata": {
    "slideshow": {
     "slide_type": "fragment"
    }
   },
   "outputs": [
    {
     "name": "stdout",
     "output_type": "stream",
     "text": [
      "> 2023-03-29 23:17:14,862 [info] invoking function: {'method': 'POST', 'path': 'http://nuclio-model-serving-additional-modules-model-server-1.default-tenant.svc.cluster.local:8080/v2/models/iris/predict'}\n"
     ]
    },
    {
     "data": {
      "text/plain": [
       "{'id': '84bc81bd-b372-4ded-9a1e-0966903376e6',\n",
       " 'model_name': 'iris',\n",
       " 'outputs': 'something useful'}"
      ]
     },
     "execution_count": 25,
     "metadata": {},
     "output_type": "execute_result"
    }
   ],
   "source": [
    "serve.invoke(path=\"/v2/models/iris/predict\", body={\"inputs\" : [[5.4, 3.9, 1.7, 0.4]]})"
   ]
  },
  {
   "cell_type": "code",
   "execution_count": null,
   "id": "e210525a",
   "metadata": {},
   "outputs": [],
   "source": []
  }
 ],
 "metadata": {
  "celltoolbar": "Slideshow",
  "kernelspec": {
   "display_name": "Python [conda env:root] *",
   "language": "python",
   "name": "conda-root-py"
  },
  "language_info": {
   "codemirror_mode": {
    "name": "ipython",
    "version": 3
   },
   "file_extension": ".py",
   "mimetype": "text/x-python",
   "name": "python",
   "nbconvert_exporter": "python",
   "pygments_lexer": "ipython3",
   "version": "3.7.6"
  },
  "rise": {
   "enable_chalkboard": true,
   "scroll": true
  }
 },
 "nbformat": 4,
 "nbformat_minor": 5
}
