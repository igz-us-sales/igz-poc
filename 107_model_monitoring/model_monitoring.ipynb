{
 "cells": [
  {
   "cell_type": "markdown",
   "id": "3abe54e6",
   "metadata": {},
   "source": [
    "# Model Monitoring with Pre/Post Processing"
   ]
  },
  {
   "cell_type": "markdown",
   "id": "dc354d60",
   "metadata": {},
   "source": [
    "For an intro on Model Monitoring, please see the [official tutorial](https://docs.mlrun.org/en/latest/tutorial/05-model-monitoring.html). This example shows how to use model monitoring with custom pre-processing, post-processing, and KPIs"
   ]
  },
  {
   "cell_type": "markdown",
   "id": "902d95d9",
   "metadata": {},
   "source": [
    "### Setup MLRun Project"
   ]
  },
  {
   "cell_type": "code",
   "execution_count": 2,
   "id": "1c487824",
   "metadata": {},
   "outputs": [],
   "source": [
    "import mlrun\n",
    "import pandas as pd"
   ]
  },
  {
   "cell_type": "code",
   "execution_count": 3,
   "id": "2b515e19",
   "metadata": {},
   "outputs": [],
   "source": [
    "import warnings\n",
    "warnings.filterwarnings('ignore')"
   ]
  },
  {
   "cell_type": "code",
   "execution_count": 4,
   "id": "8c557e55",
   "metadata": {},
   "outputs": [
    {
     "name": "stdout",
     "output_type": "stream",
     "text": [
      "> 2023-04-03 22:13:04,902 [info] loaded project model-monitoring-custom from MLRun DB\n"
     ]
    }
   ],
   "source": [
    "project = mlrun.get_or_create_project(\"model-monitoring-custom\", \"./\")"
   ]
  },
  {
   "cell_type": "markdown",
   "id": "78cdc0f5",
   "metadata": {},
   "source": [
    "### Log Model with Dataset"
   ]
  },
  {
   "cell_type": "code",
   "execution_count": 5,
   "id": "1755679f",
   "metadata": {},
   "outputs": [],
   "source": [
    "MODEL_NAME = \"iris\"\n",
    "MODEL_PATH = 'https://s3.wasabisys.com/iguazio/models/model-monitoring/model-3.7.pkl'\n",
    "DATA_PATH = 'https://s3.wasabisys.com/iguazio/data/model-monitoring/iris_dataset.csv'"
   ]
  },
  {
   "cell_type": "code",
   "execution_count": 6,
   "id": "c4d8800a",
   "metadata": {},
   "outputs": [],
   "source": [
    "model_artifact = project.log_model(\n",
    "    key=MODEL_NAME,\n",
    "    model_file=MODEL_PATH,\n",
    "    framework=\"sklearn\",\n",
    "    training_set=pd.read_csv(DATA_PATH),\n",
    "    label_column=\"label\"\n",
    ")"
   ]
  },
  {
   "cell_type": "code",
   "execution_count": 7,
   "id": "9e8a24d7",
   "metadata": {},
   "outputs": [
    {
     "data": {
      "text/plain": [
       "'store://models/model-monitoring-custom/iris#0:latest'"
      ]
     },
     "execution_count": 7,
     "metadata": {},
     "output_type": "execute_result"
    }
   ],
   "source": [
    "model_uri = model_artifact.uri\n",
    "model_uri"
   ]
  },
  {
   "cell_type": "markdown",
   "id": "c2c83552",
   "metadata": {},
   "source": [
    "### Define Model Class, Router, and Transformations"
   ]
  },
  {
   "cell_type": "code",
   "execution_count": 8,
   "id": "9bfbe8a4",
   "metadata": {},
   "outputs": [
    {
     "name": "stdout",
     "output_type": "stream",
     "text": [
      "Overwriting serve.py\n"
     ]
    }
   ],
   "source": [
    "%%writefile serve.py\n",
    "from typing import List\n",
    "\n",
    "import numpy as np\n",
    "import storey\n",
    "from cloudpickle import load\n",
    "import random\n",
    "\n",
    "import mlrun\n",
    "from mlrun.serving.routers import ParallelRun\n",
    "\n",
    "class ClassifierModel(mlrun.serving.V2ModelServer):\n",
    "    \n",
    "    def load(self):\n",
    "        \"\"\"load and initialize the model and/or other elements\"\"\"\n",
    "        model_file, extra_data = self.get_model(\".pkl\")\n",
    "        self.model = load(open(model_file, \"rb\"))\n",
    "        \n",
    "    def validate(self, request, operation):\n",
    "        \"\"\"Removed default validation\"\"\"\n",
    "        return request\n",
    "        \n",
    "    def preprocess(self, request: dict, operation) -> dict:\n",
    "        \"\"\"preprocess the event body before validate and action\"\"\"\n",
    "        request[\"inputs\"] = [list(request.values())]\n",
    "        return request\n",
    "\n",
    "    def predict(self, body: dict) -> List:\n",
    "        \"\"\"Generate model predictions from sample.\"\"\"\n",
    "        feats = np.asarray(body[\"inputs\"])\n",
    "        result: np.ndarray = self.model.predict(feats)\n",
    "            \n",
    "        #### Custom KPI\n",
    "        self.set_metric(\"my_kpi\", random.uniform(1, 10))\n",
    "        ####\n",
    "        \n",
    "        return result.tolist()\n",
    "\n",
    "def format_prediction(event):\n",
    "    CLASS_MAPPINGS = {0: \"setosa\", 1 : \"versicolor\", 2: \"virginica\"}\n",
    "\n",
    "    return {\n",
    "        \"model_name\" : event[\"model_name\"],\n",
    "        \"prediction\" : CLASS_MAPPINGS[event[\"outputs\"][0]]\n",
    "    }"
   ]
  },
  {
   "cell_type": "markdown",
   "id": "d1d94359",
   "metadata": {},
   "source": [
    "### Define Graph"
   ]
  },
  {
   "cell_type": "code",
   "execution_count": 12,
   "id": "49f33105",
   "metadata": {},
   "outputs": [
    {
     "data": {
      "image/svg+xml": [
       "<?xml version=\"1.0\" encoding=\"UTF-8\" standalone=\"no\"?>\n",
       "<!DOCTYPE svg PUBLIC \"-//W3C//DTD SVG 1.1//EN\"\n",
       " \"http://www.w3.org/Graphics/SVG/1.1/DTD/svg11.dtd\">\n",
       "<!-- Generated by graphviz version 2.40.1 (20161225.0304)\n",
       " -->\n",
       "<!-- Title: mlrun&#45;flow Pages: 1 -->\n",
       "<svg width=\"468pt\" height=\"120pt\"\n",
       " viewBox=\"0.00 0.00 467.98 120.00\" xmlns=\"http://www.w3.org/2000/svg\" xmlns:xlink=\"http://www.w3.org/1999/xlink\">\n",
       "<g id=\"graph0\" class=\"graph\" transform=\"scale(1 1) rotate(0) translate(4 116)\">\n",
       "<title>mlrun&#45;flow</title>\n",
       "<polygon fill=\"#ffffff\" stroke=\"transparent\" points=\"-4,4 -4,-116 463.9759,-116 463.9759,4 -4,4\"/>\n",
       "<g id=\"clust1\" class=\"cluster\">\n",
       "<title>cluster_ensemble</title>\n",
       "<polygon fill=\"none\" stroke=\"#000000\" points=\"98.5991,-44 98.5991,-104 400.0844,-104 400.0844,-44 98.5991,-44\"/>\n",
       "</g>\n",
       "<!-- _start -->\n",
       "<g id=\"node1\" class=\"node\">\n",
       "<title>_start</title>\n",
       "<polygon fill=\"#d3d3d3\" stroke=\"#000000\" points=\"38.5476,-56.0493 40.698,-56.1479 42.8263,-56.2953 44.9236,-56.4913 46.9815,-56.7353 48.9917,-57.0266 50.9463,-57.3645 52.8377,-57.7479 54.6587,-58.1759 56.4025,-58.6472 58.0628,-59.1606 59.634,-59.7147 61.1107,-60.308 62.4882,-60.9388 63.7625,-61.6054 64.9302,-62.3059 65.9882,-63.0385 66.9343,-63.8012 67.7669,-64.5918 68.4849,-65.4082 69.0878,-66.2481 69.5758,-67.1093 69.9496,-67.9894 70.2102,-68.886 70.3595,-69.7965 70.3997,-70.7186 70.3334,-71.6497 70.1636,-72.5873 69.8937,-73.5287 69.5276,-74.4713 69.0691,-75.4127 68.5225,-76.3503 67.8923,-77.2814 67.1831,-78.2035 66.3996,-79.114 65.5464,-80.0106 64.6285,-80.8907 63.6504,-81.7519 62.617,-82.5918 61.5329,-83.4082 60.4024,-84.1988 59.2299,-84.9615 58.0197,-85.6941 56.7755,-86.3946 55.5012,-87.0612 54.2002,-87.692 52.8757,-88.2853 51.5309,-88.8394 50.1684,-89.3528 48.7908,-89.8241 47.4003,-90.2521 45.9989,-90.6355 44.5886,-90.9734 43.1708,-91.2647 41.7472,-91.5087 40.3189,-91.7047 38.8872,-91.8521 37.4531,-91.9507 36.0175,-92 34.5815,-92 33.146,-91.9507 31.7119,-91.8521 30.2801,-91.7047 28.8519,-91.5087 27.4282,-91.2647 26.0105,-90.9734 24.6001,-90.6355 23.1988,-90.2521 21.8083,-89.8241 20.4306,-89.3528 19.0681,-88.8394 17.7233,-88.2853 16.3989,-87.692 15.0979,-87.0612 13.8236,-86.3946 12.5794,-85.6941 11.3691,-84.9615 10.1967,-84.1988 9.0662,-83.4082 7.982,-82.5918 6.9486,-81.7519 5.9706,-80.8907 5.0526,-80.0106 4.1995,-79.114 3.4159,-78.2035 2.7067,-77.2814 2.0765,-76.3503 1.53,-75.4127 1.0715,-74.4713 .7053,-73.5287 .4355,-72.5873 .2657,-71.6497 .1993,-70.7186 .2395,-69.7965 .3888,-68.886 .6495,-67.9894 1.0232,-67.1093 1.5112,-66.2481 2.1141,-65.4082 2.8321,-64.5918 3.6647,-63.8012 4.6109,-63.0385 5.6689,-62.3059 6.8365,-61.6054 8.1108,-60.9388 9.4884,-60.308 10.9651,-59.7147 12.5362,-59.1606 14.1966,-58.6472 15.9404,-58.1759 17.7614,-57.7479 19.6528,-57.3645 21.6074,-57.0266 23.6176,-56.7353 25.6755,-56.4913 27.7728,-56.2953 29.901,-56.1479 32.0515,-56.0493 34.2154,-56 36.3837,-56 38.5476,-56.0493\"/>\n",
       "<text text-anchor=\"middle\" x=\"35.2995\" y=\"-70.3\" font-family=\"Times,serif\" font-size=\"14.00\" fill=\"#000000\">start</text>\n",
       "</g>\n",
       "<!-- ensemble -->\n",
       "<g id=\"node2\" class=\"node\">\n",
       "<title>ensemble</title>\n",
       "<polygon fill=\"none\" stroke=\"#000000\" points=\"230.003,-66.5442 230.003,-81.4558 195.086,-92 145.7059,-92 110.7888,-81.4558 110.7888,-66.5442 145.7059,-56 195.086,-56 230.003,-66.5442\"/>\n",
       "<polygon fill=\"none\" stroke=\"#000000\" points=\"233.9903,-63.5709 233.9903,-84.4291 195.6731,-96 145.1187,-96 106.8015,-84.4291 106.8015,-63.5709 145.1187,-52 195.6731,-52 233.9903,-63.5709\"/>\n",
       "<text text-anchor=\"middle\" x=\"170.3959\" y=\"-70.3\" font-family=\"Times,serif\" font-size=\"14.00\" fill=\"#000000\">ensemble</text>\n",
       "</g>\n",
       "<!-- _start&#45;&gt;ensemble -->\n",
       "<g id=\"edge1\" class=\"edge\">\n",
       "<title>_start&#45;&gt;ensemble</title>\n",
       "<path fill=\"none\" stroke=\"#000000\" d=\"M69.7396,-74C78.0066,-74 87.1527,-74 96.4619,-74\"/>\n",
       "<polygon fill=\"#000000\" stroke=\"#000000\" points=\"96.5937,-77.5001 106.5936,-74 96.5936,-70.5001 96.5937,-77.5001\"/>\n",
       "</g>\n",
       "<!-- ensemble/iris -->\n",
       "<g id=\"node3\" class=\"node\">\n",
       "<title>ensemble/iris</title>\n",
       "<ellipse fill=\"none\" stroke=\"#000000\" cx=\"365.0844\" cy=\"-74\" rx=\"27\" ry=\"18\"/>\n",
       "<text text-anchor=\"middle\" x=\"365.0844\" y=\"-70.3\" font-family=\"Times,serif\" font-size=\"14.00\" fill=\"#000000\">iris</text>\n",
       "</g>\n",
       "<!-- ensemble&#45;&gt;ensemble/iris -->\n",
       "<g id=\"edge2\" class=\"edge\">\n",
       "<title>ensemble&#45;&gt;ensemble/iris</title>\n",
       "<path fill=\"none\" stroke=\"#000000\" d=\"M234.1442,-74C265.0416,-74 301.086,-74 327.5265,-74\"/>\n",
       "<polygon fill=\"#000000\" stroke=\"#000000\" points=\"327.8697,-77.5001 337.8697,-74 327.8697,-70.5001 327.8697,-77.5001\"/>\n",
       "</g>\n",
       "<!-- format_prediction -->\n",
       "<g id=\"node4\" class=\"node\">\n",
       "<title>format_prediction</title>\n",
       "<ellipse fill=\"none\" stroke=\"#000000\" cx=\"365.0844\" cy=\"-18\" rx=\"94.7833\" ry=\"18\"/>\n",
       "<text text-anchor=\"middle\" x=\"365.0844\" y=\"-14.3\" font-family=\"Times,serif\" font-size=\"14.00\" fill=\"#000000\">format_prediction</text>\n",
       "</g>\n",
       "<!-- ensemble&#45;&gt;format_prediction -->\n",
       "<g id=\"edge3\" class=\"edge\">\n",
       "<title>ensemble&#45;&gt;format_prediction</title>\n",
       "<path fill=\"none\" stroke=\"#000000\" d=\"M256.6958,-44.0022C261.2475,-42.6069 265.7669,-41.2635 270.1928,-40 277.5105,-37.9109 285.1876,-35.8765 292.8716,-33.9421\"/>\n",
       "<polygon fill=\"#000000\" stroke=\"#000000\" points=\"293.7102,-37.3402 302.582,-31.5487 292.035,-30.5436 293.7102,-37.3402\"/>\n",
       "</g>\n",
       "</g>\n",
       "</svg>\n"
      ],
      "text/plain": [
       "<graphviz.dot.Digraph at 0x7f52c250fb10>"
      ]
     },
     "execution_count": 12,
     "metadata": {},
     "output_type": "execute_result"
    }
   ],
   "source": [
    "fn = project.set_function(\n",
    "    name=\"model-server\", func=\"serve.py\", \n",
    "    kind=\"serving\", image=\"mlrun/mlrun\"\n",
    ")\n",
    "graph = fn.set_topology(\"flow\", engine=\"async\")\n",
    "\n",
    "router = graph.add_step(\"*mlrun.serving.ModelRouter\", name=\"ensemble\")\n",
    "router.add_route(\"iris\", class_name=\"ClassifierModel\", model_path=model_uri)\n",
    "\n",
    "graph.add_step(name=\"format_prediction\", handler=\"format_prediction\", after=\"$prev\").respond()\n",
    "\n",
    "graph.plot(rankdir=\"LR\")"
   ]
  },
  {
   "cell_type": "markdown",
   "id": "c62d5cb8",
   "metadata": {},
   "source": [
    "### Test Locally"
   ]
  },
  {
   "cell_type": "code",
   "execution_count": 13,
   "id": "f30975bb",
   "metadata": {},
   "outputs": [
    {
     "name": "stdout",
     "output_type": "stream",
     "text": [
      "> 2023-04-03 22:13:42,462 [info] model iris was loaded\n",
      "> 2023-04-03 22:13:42,463 [info] Loaded ['iris']\n"
     ]
    }
   ],
   "source": [
    "mock_server = fn.to_mock_server()"
   ]
  },
  {
   "cell_type": "code",
   "execution_count": 14,
   "id": "7d3b00aa",
   "metadata": {},
   "outputs": [],
   "source": [
    "body = {\n",
    "    \"sepal_length_cm\": 5.1,\n",
    "    \"sepal_width_cm\": 3.5,\n",
    "    \"petal_length_cm\": 1.4,\n",
    "    \"petal_width_cm\": 0.2,\n",
    "}"
   ]
  },
  {
   "cell_type": "code",
   "execution_count": 15,
   "id": "41331aaf",
   "metadata": {},
   "outputs": [
    {
     "data": {
      "text/plain": [
       "{'model_name': 'iris', 'prediction': 'setosa'}"
      ]
     },
     "execution_count": 15,
     "metadata": {},
     "output_type": "execute_result"
    }
   ],
   "source": [
    "mock_server.test(\"\", body=body)"
   ]
  },
  {
   "cell_type": "markdown",
   "id": "d36b87d3",
   "metadata": {},
   "source": [
    "### Enable Monitoring + Deploy on K8s"
   ]
  },
  {
   "cell_type": "code",
   "execution_count": 16,
   "id": "4c52ee34",
   "metadata": {},
   "outputs": [],
   "source": [
    "fn.set_tracking()"
   ]
  },
  {
   "cell_type": "code",
   "execution_count": 17,
   "id": "94010e53",
   "metadata": {},
   "outputs": [
    {
     "name": "stdout",
     "output_type": "stream",
     "text": [
      "> 2023-04-03 22:13:46,386 [info] Starting remote function deploy\n",
      "2023-04-03 22:13:49  (info) Deploying function\n",
      "2023-04-03 22:13:49  (info) Building\n",
      "2023-04-03 22:13:49  (info) Staging files and preparing base images\n",
      "2023-04-03 22:13:49  (info) Building processor image\n",
      "2023-04-03 22:14:35  (info) Build complete\n",
      "2023-04-03 22:14:43  (info) Function deploy complete\n",
      "> 2023-04-03 22:14:43,517 [info] successfully deployed function: {'internal_invocation_urls': ['nuclio-model-monitoring-custom-model-server.default-tenant.svc.cluster.local:8080'], 'external_invocation_urls': ['model-monitoring-custom-model-server-model-monitoring-custom.default-tenant.app.us-sales-350.iguazio-cd1.com/']}\n"
     ]
    },
    {
     "data": {
      "text/plain": [
       "'http://model-monitoring-custom-model-server-model-monitoring-custom.default-tenant.app.us-sales-350.iguazio-cd1.com/'"
      ]
     },
     "execution_count": 17,
     "metadata": {},
     "output_type": "execute_result"
    }
   ],
   "source": [
    "fn.deploy()"
   ]
  },
  {
   "cell_type": "code",
   "execution_count": 18,
   "id": "ef57e62d",
   "metadata": {},
   "outputs": [],
   "source": [
    "body = {\n",
    "    \"sepal_length_cm\": 5.1,\n",
    "    \"sepal_width_cm\": 3.5,\n",
    "    \"petal_length_cm\": 1.4,\n",
    "    \"petal_width_cm\": 0.2,\n",
    "}"
   ]
  },
  {
   "cell_type": "code",
   "execution_count": 19,
   "id": "d426af00",
   "metadata": {},
   "outputs": [
    {
     "name": "stdout",
     "output_type": "stream",
     "text": [
      "> 2023-04-03 22:14:49,762 [info] invoking function: {'method': 'POST', 'path': 'http://nuclio-model-monitoring-custom-model-server.default-tenant.svc.cluster.local:8080/'}\n"
     ]
    },
    {
     "data": {
      "text/plain": [
       "{'model_name': 'iris', 'prediction': 'setosa'}"
      ]
     },
     "execution_count": 19,
     "metadata": {},
     "output_type": "execute_result"
    }
   ],
   "source": [
    "fn.invoke(\"\", body=body)"
   ]
  },
  {
   "cell_type": "markdown",
   "id": "6a97a8a8",
   "metadata": {},
   "source": [
    "### Simulate production traffic\n",
    "\n",
    "*By default, the drift calculation starts via the scheduled hourly batch job after receiving 10,000 incoming requests.*"
   ]
  },
  {
   "cell_type": "code",
   "execution_count": 21,
   "id": "3f30dd43",
   "metadata": {},
   "outputs": [
    {
     "data": {
      "application/vnd.jupyter.widget-view+json": {
       "model_id": "1dda9f79da4c454393e2e1d36a0d008a",
       "version_major": 2,
       "version_minor": 0
      },
      "text/plain": [
       "  0%|          | 0/12000 [00:00<?, ?it/s]"
      ]
     },
     "metadata": {},
     "output_type": "display_data"
    }
   ],
   "source": [
    "import json\n",
    "import logging\n",
    "from random import choice\n",
    "\n",
    "from tqdm.notebook import tqdm\n",
    "\n",
    "# Suppress print messages\n",
    "logging.getLogger(name=\"mlrun\").setLevel(logging.WARNING)\n",
    "\n",
    "# Get training set as list\n",
    "iris_data = pd.read_csv(DATA_PATH).drop(\"label\", axis=1).to_dict(orient=\"records\")\n",
    "\n",
    "# Simulate traffic using random elements from training set\n",
    "for i in tqdm(range(12_000)):\n",
    "    data_point = choice(iris_data)\n",
    "    fn.invoke(f'v2/models/{MODEL_NAME}/infer', data_point)\n",
    "    \n",
    "# Resume normal logging\n",
    "logging.getLogger(name=\"mlrun\").setLevel(logging.INFO)"
   ]
  },
  {
   "cell_type": "code",
   "execution_count": null,
   "id": "f522611e",
   "metadata": {},
   "outputs": [],
   "source": []
  }
 ],
 "metadata": {
  "kernelspec": {
   "display_name": "Python [conda env:root] *",
   "language": "python",
   "name": "conda-root-py"
  },
  "language_info": {
   "codemirror_mode": {
    "name": "ipython",
    "version": 3
   },
   "file_extension": ".py",
   "mimetype": "text/x-python",
   "name": "python",
   "nbconvert_exporter": "python",
   "pygments_lexer": "ipython3",
   "version": "3.7.6"
  }
 },
 "nbformat": 4,
 "nbformat_minor": 5
}
