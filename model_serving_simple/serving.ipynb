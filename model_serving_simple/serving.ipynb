{
 "cells": [
  {
   "cell_type": "markdown",
   "id": "acbed93a",
   "metadata": {
    "slideshow": {
     "slide_type": "slide"
    }
   },
   "source": [
    "# Productionize Model with Default Model Server"
   ]
  },
  {
   "cell_type": "code",
   "execution_count": 9,
   "id": "38e8ee8d",
   "metadata": {
    "slideshow": {
     "slide_type": "fragment"
    }
   },
   "outputs": [
    {
     "name": "stdout",
     "output_type": "stream",
     "text": [
      "> 2023-03-08 21:30:00,127 [info] loaded project simple-model-server from MLRun DB\n"
     ]
    }
   ],
   "source": [
    "import mlrun\n",
    "\n",
    "# Create MLRun project\n",
    "project = mlrun.get_or_create_project(name=\"model-serving-simple\", context=\"./\")"
   ]
  },
  {
   "cell_type": "markdown",
   "id": "0e029ec3",
   "metadata": {
    "slideshow": {
     "slide_type": "slide"
    }
   },
   "source": [
    "### Import Model Server from Function Marketplace"
   ]
  },
  {
   "cell_type": "code",
   "execution_count": 10,
   "id": "4385dffa",
   "metadata": {
    "slideshow": {
     "slide_type": "fragment"
    }
   },
   "outputs": [],
   "source": [
    "serve = mlrun.import_function('hub://v2_model_server')"
   ]
  },
  {
   "cell_type": "markdown",
   "id": "2513eaa1",
   "metadata": {
    "slideshow": {
     "slide_type": "fragment"
    }
   },
   "source": [
    "### Add Model to Model Server"
   ]
  },
  {
   "cell_type": "code",
   "execution_count": 11,
   "id": "8b29906e",
   "metadata": {
    "slideshow": {
     "slide_type": "fragment"
    }
   },
   "outputs": [
    {
     "data": {
      "text/plain": [
       "<mlrun.serving.states.TaskStep at 0x7f23bd941a90>"
      ]
     },
     "execution_count": 11,
     "metadata": {},
     "output_type": "execute_result"
    }
   ],
   "source": [
    "serve.add_model(key=\"iris\", model_path=\"https://s3.wasabisys.com/iguazio/models/iris/model.pkl\")"
   ]
  },
  {
   "cell_type": "markdown",
   "id": "018fcf25",
   "metadata": {
    "slideshow": {
     "slide_type": "subslide"
    }
   },
   "source": [
    "### Deploy to Nuclio Serverless Function"
   ]
  },
  {
   "cell_type": "code",
   "execution_count": null,
   "id": "9c59d0ad",
   "metadata": {},
   "outputs": [],
   "source": [
    "serve.set_tracking()"
   ]
  },
  {
   "cell_type": "code",
   "execution_count": 4,
   "id": "4797ace3",
   "metadata": {
    "slideshow": {
     "slide_type": "fragment"
    }
   },
   "outputs": [
    {
     "name": "stdout",
     "output_type": "stream",
     "text": [
      "> 2023-03-08 20:11:30,507 [info] Starting remote function deploy\n",
      "2023-03-08 20:11:30  (info) Deploying function\n",
      "2023-03-08 20:11:30  (info) Building\n",
      "2023-03-08 20:11:31  (info) Staging files and preparing base images\n",
      "2023-03-08 20:11:31  (info) Building processor image\n",
      "2023-03-08 20:12:26  (info) Build complete\n",
      "2023-03-08 20:12:36  (info) Function deploy complete\n",
      "> 2023-03-08 20:12:37,161 [info] successfully deployed function: {'internal_invocation_urls': ['nuclio-simple-model-server-v2-model-server.default-tenant.svc.cluster.local:8080'], 'external_invocation_urls': ['simple-model-server-v2-model-server-simple-model-server.default-tenant.app.us-sales-350.iguazio-cd1.com/']}\n"
     ]
    }
   ],
   "source": [
    "addr = serve.deploy()"
   ]
  },
  {
   "cell_type": "code",
   "execution_count": 5,
   "id": "4045de24",
   "metadata": {},
   "outputs": [
    {
     "data": {
      "text/plain": [
       "'http://simple-model-server-v2-model-server-simple-model-server.default-tenant.app.us-sales-350.iguazio-cd1.com/'"
      ]
     },
     "execution_count": 5,
     "metadata": {},
     "output_type": "execute_result"
    }
   ],
   "source": [
    "addr"
   ]
  },
  {
   "cell_type": "markdown",
   "id": "ee561ed1",
   "metadata": {
    "slideshow": {
     "slide_type": "fragment"
    }
   },
   "source": [
    "### Test Model Server"
   ]
  },
  {
   "cell_type": "code",
   "execution_count": 12,
   "id": "b54133f0",
   "metadata": {
    "slideshow": {
     "slide_type": "fragment"
    }
   },
   "outputs": [
    {
     "name": "stdout",
     "output_type": "stream",
     "text": [
      "> 2023-03-08 21:33:43,885 [info] invoking function: {'method': 'POST', 'path': 'http://nuclio-simple-model-server-v2-model-server.default-tenant.svc.cluster.local:8080/v2/models/iris/predict'}\n"
     ]
    },
    {
     "data": {
      "text/plain": [
       "{'id': '7d5c04ab-1234-4770-902b-98995fa537ab',\n",
       " 'model_name': 'iris',\n",
       " 'outputs': [0, 2]}"
      ]
     },
     "execution_count": 12,
     "metadata": {},
     "output_type": "execute_result"
    }
   ],
   "source": [
    "serve.invoke(path=\"/v2/models/iris/predict\", body={\"inputs\": [[5.1, 3.5, 1.4, 0.2], [7.7, 3.8, 6.7, 2.2]]})"
   ]
  },
  {
   "cell_type": "code",
   "execution_count": null,
   "id": "c38ed74d",
   "metadata": {},
   "outputs": [],
   "source": []
  }
 ],
 "metadata": {
  "celltoolbar": "Slideshow",
  "kernelspec": {
   "display_name": "Python [conda env:root] *",
   "language": "python",
   "name": "conda-root-py"
  },
  "language_info": {
   "codemirror_mode": {
    "name": "ipython",
    "version": 3
   },
   "file_extension": ".py",
   "mimetype": "text/x-python",
   "name": "python",
   "nbconvert_exporter": "python",
   "pygments_lexer": "ipython3",
   "version": "3.7.6"
  },
  "rise": {
   "enable_chalkboard": true,
   "scroll": true
  }
 },
 "nbformat": 4,
 "nbformat_minor": 5
}
